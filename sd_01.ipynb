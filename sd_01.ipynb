{
 "cells": [
  {
   "cell_type": "code",
   "execution_count": 1,
   "metadata": {},
   "outputs": [
    {
     "name": "stdout",
     "output_type": "stream",
     "text": [
      "Serving at port 8000\n"
     ]
    },
    {
     "name": "stderr",
     "output_type": "stream",
     "text": [
      "127.0.0.1 - - [26/Apr/2024 09:38:32] \"GET /converter.html HTTP/1.1\" 304 -\n"
     ]
    }
   ],
   "source": [
    "import http.server\n",
    "import socketserver\n",
    "import os\n",
    "\n",
    "PORT = 8000\n",
    "DIRECTORY = r\"C:\\Users\\NANI\\Desktop\\sd_01\\templates\"  \n",
    "\n",
    "Handler = http.server.SimpleHTTPRequestHandler\n",
    "\n",
    "os.chdir(DIRECTORY)\n",
    "\n",
    "with socketserver.TCPServer((\"\", PORT), Handler) as httpd:\n",
    "    print(\"Serving at port\", PORT)\n",
    "    httpd.serve_forever()\n"
   ]
  },
  {
   "cell_type": "code",
   "execution_count": null,
   "metadata": {},
   "outputs": [],
   "source": []
  }
 ],
 "metadata": {
  "kernelspec": {
   "display_name": "Python 3",
   "language": "python",
   "name": "python3"
  },
  "language_info": {
   "codemirror_mode": {
    "name": "ipython",
    "version": 3
   },
   "file_extension": ".py",
   "mimetype": "text/x-python",
   "name": "python",
   "nbconvert_exporter": "python",
   "pygments_lexer": "ipython3",
   "version": "3.11.1"
  }
 },
 "nbformat": 4,
 "nbformat_minor": 2
}
